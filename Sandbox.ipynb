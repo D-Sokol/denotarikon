{
  "nbformat": 4,
  "nbformat_minor": 0,
  "metadata": {
    "colab": {
      "name": "Sandbox.ipynb",
      "provenance": [],
      "collapsed_sections": [],
      "authorship_tag": "ABX9TyN4TV19ULfV4q/2M/2+TDNi",
      "include_colab_link": true
    },
    "kernelspec": {
      "name": "python3",
      "display_name": "Python 3"
    },
    "accelerator": "GPU"
  },
  "cells": [
    {
      "cell_type": "markdown",
      "metadata": {
        "id": "view-in-github",
        "colab_type": "text"
      },
      "source": [
        "<a href=\"https://colab.research.google.com/github/D-Sokol/denotarikon/blob/main/Sandbox.ipynb\" target=\"_parent\"><img src=\"https://colab.research.google.com/assets/colab-badge.svg\" alt=\"Open In Colab\"/></a>"
      ]
    },
    {
      "cell_type": "code",
      "metadata": {
        "colab": {
          "base_uri": "https://localhost:8080/"
        },
        "id": "Q-l-0OeQjXhO",
        "outputId": "b7957f2e-3c7a-472a-b2aa-369a522b4bf6"
      },
      "source": [
        "!pip install transformers==4.1.1"
      ],
      "execution_count": 1,
      "outputs": [
        {
          "output_type": "stream",
          "text": [
            "Requirement already satisfied: transformers==4.1.1 in /usr/local/lib/python3.6/dist-packages (4.1.1)\n",
            "Requirement already satisfied: packaging in /usr/local/lib/python3.6/dist-packages (from transformers==4.1.1) (20.8)\n",
            "Requirement already satisfied: sacremoses in /usr/local/lib/python3.6/dist-packages (from transformers==4.1.1) (0.0.43)\n",
            "Requirement already satisfied: tqdm>=4.27 in /usr/local/lib/python3.6/dist-packages (from transformers==4.1.1) (4.41.1)\n",
            "Requirement already satisfied: numpy in /usr/local/lib/python3.6/dist-packages (from transformers==4.1.1) (1.19.4)\n",
            "Requirement already satisfied: tokenizers==0.9.4 in /usr/local/lib/python3.6/dist-packages (from transformers==4.1.1) (0.9.4)\n",
            "Requirement already satisfied: requests in /usr/local/lib/python3.6/dist-packages (from transformers==4.1.1) (2.23.0)\n",
            "Requirement already satisfied: dataclasses; python_version < \"3.7\" in /usr/local/lib/python3.6/dist-packages (from transformers==4.1.1) (0.8)\n",
            "Requirement already satisfied: filelock in /usr/local/lib/python3.6/dist-packages (from transformers==4.1.1) (3.0.12)\n",
            "Requirement already satisfied: regex!=2019.12.17 in /usr/local/lib/python3.6/dist-packages (from transformers==4.1.1) (2019.12.20)\n",
            "Requirement already satisfied: pyparsing>=2.0.2 in /usr/local/lib/python3.6/dist-packages (from packaging->transformers==4.1.1) (2.4.7)\n",
            "Requirement already satisfied: six in /usr/local/lib/python3.6/dist-packages (from sacremoses->transformers==4.1.1) (1.15.0)\n",
            "Requirement already satisfied: click in /usr/local/lib/python3.6/dist-packages (from sacremoses->transformers==4.1.1) (7.1.2)\n",
            "Requirement already satisfied: joblib in /usr/local/lib/python3.6/dist-packages (from sacremoses->transformers==4.1.1) (1.0.0)\n",
            "Requirement already satisfied: urllib3!=1.25.0,!=1.25.1,<1.26,>=1.21.1 in /usr/local/lib/python3.6/dist-packages (from requests->transformers==4.1.1) (1.24.3)\n",
            "Requirement already satisfied: chardet<4,>=3.0.2 in /usr/local/lib/python3.6/dist-packages (from requests->transformers==4.1.1) (3.0.4)\n",
            "Requirement already satisfied: idna<3,>=2.5 in /usr/local/lib/python3.6/dist-packages (from requests->transformers==4.1.1) (2.10)\n",
            "Requirement already satisfied: certifi>=2017.4.17 in /usr/local/lib/python3.6/dist-packages (from requests->transformers==4.1.1) (2020.12.5)\n"
          ],
          "name": "stdout"
        }
      ]
    },
    {
      "cell_type": "code",
      "metadata": {
        "id": "ieG-Qb3Mh0Hd"
      },
      "source": [
        "import torch\n",
        "import numpy as np\n",
        "import string\n",
        "from transformers import GPT2Tokenizer, GPT2LMHeadModel"
      ],
      "execution_count": 2,
      "outputs": []
    },
    {
      "cell_type": "code",
      "metadata": {
        "id": "aVOB60vVjPju"
      },
      "source": [
        "device = torch.device('cuda' if torch.cuda.is_available() else 'cpu')\n",
        "tokenizer = GPT2Tokenizer.from_pretrained('gpt2', add_prefix_space=True)\n",
        "model = GPT2LMHeadModel.from_pretrained('gpt2').train(False).to(device)"
      ],
      "execution_count": 3,
      "outputs": []
    },
    {
      "cell_type": "code",
      "metadata": {
        "id": "iN-fd1hgrY6j"
      },
      "source": [
        "all_tokens = [tokenizer.decode(i) for i in range(tokenizer.vocab_size)]"
      ],
      "execution_count": 4,
      "outputs": []
    },
    {
      "cell_type": "code",
      "metadata": {
        "id": "3OB0gB2PtVtn"
      },
      "source": [
        "def letter_index(letter, alphabet=string.ascii_lowercase):\n",
        "    return alphabet.index(letter)\n",
        "\n",
        "mask_allowed = torch.zeros(tokenizer.vocab_size, len(string.ascii_lowercase), dtype=bool)\n",
        "mask_satisfied = mask_allowed.clone()\n",
        "for token, mask_row_a, mask_row_s in zip(all_tokens, mask_allowed, mask_satisfied):\n",
        "    # TODO: replace this magic conditions with something clearer\n",
        "    if token.startswith(' '):\n",
        "        if len(token) == 1 or token[1].lower() not in string.ascii_lowercase:\n",
        "            continue\n",
        "        mask_row_a[letter_index(token[1].lower())] = True\n",
        "        mask_row_s[letter_index(token[1].lower())] = True\n",
        "    elif token and token[0] not in string.ascii_uppercase:\n",
        "        mask_row_a[:] = True"
      ],
      "execution_count": 5,
      "outputs": []
    },
    {
      "cell_type": "code",
      "metadata": {
        "id": "l1GOGGfmjhq6"
      },
      "source": [
        "start_text = \"The best possible example to demonstrate power of the project is\"\n",
        "target = \"TBPETDPOTPITREEBPORT\""
      ],
      "execution_count": 6,
      "outputs": []
    },
    {
      "cell_type": "code",
      "metadata": {
        "id": "EvgBMqjHTE7K"
      },
      "source": [
        "# Parameter for nucleus sampling\n",
        "p_threshold = 0.95\n",
        "# Allow model to generate only this many tokens that counts as one word.\n",
        "max_nostarting_token = 5\n",
        "\n",
        "temperature = 0.8"
      ],
      "execution_count": 7,
      "outputs": []
    },
    {
      "cell_type": "code",
      "metadata": {
        "colab": {
          "base_uri": "https://localhost:8080/"
        },
        "id": "dUS20bWG8PIb",
        "outputId": "adfe2860-8c5e-4242-86ee-22e955fa5d35"
      },
      "source": [
        "start_tokens = tokenizer.encode(start_text)\n",
        "start_tokens"
      ],
      "execution_count": 8,
      "outputs": [
        {
          "output_type": "execute_result",
          "data": {
            "text/plain": [
              "[383, 1266, 1744, 1672, 284, 10176, 1176, 286, 262, 1628, 318]"
            ]
          },
          "metadata": {
            "tags": []
          },
          "execution_count": 8
        }
      ]
    },
    {
      "cell_type": "code",
      "metadata": {
        "id": "rqvKZvkZlCJd"
      },
      "source": [
        "target = target.lower()\n",
        "assert target != '', \"Target string cannot be empty\"\n",
        "\n",
        "target_letter_generated = 0\n",
        "for ix in start_tokens:\n",
        "    token = tokenizer.decode(ix)\n",
        "    # TODO: again, magic conditions\n",
        "    if not token or not token.startswith(' '):\n",
        "        continue\n",
        "    \n",
        "    assert target_letter_generated != len(target), \"Target string is too short\"\n",
        "    assert target[target_letter_generated].upper() == token[1].upper(), \"Target string does not correspond given phrase\"\n",
        "    target_letter_generated += 1"
      ],
      "execution_count": 9,
      "outputs": []
    },
    {
      "cell_type": "code",
      "metadata": {
        "id": "KlRDYccBmg9y"
      },
      "source": [
        "tokens = start_tokens.copy()\n",
        "with torch.no_grad():\n",
        "    result = model(torch.tensor(tokens, device=device)[None], past_key_values=None)\n",
        "    next_logits, past = result['logits'][0, -1, :], result['past_key_values']\n",
        "    rest_nostarting_tokens = max_nostarting_token\n",
        "    \n",
        "    while target_letter_generated < len(target):\n",
        "        if rest_nostarting_tokens:\n",
        "            next_logits[~mask_allowed[:, letter_index(target[target_letter_generated])]] = -np.inf\n",
        "        else:\n",
        "            next_logits[~mask_satisfied[:, letter_index(target[target_letter_generated])]] = -np.inf\n",
        "        next_probas = torch.softmax(next_logits / temperature, dim=-1).cpu()\n",
        "\n",
        "        sorted_p, sorted_ix = torch.sort(next_probas, descending=True)\n",
        "        cumulative_p = torch.cumsum(sorted_p, dim=-1)\n",
        "\n",
        "        # Number of possible choices for next token, calculated as minimal n\n",
        "        #  such that sum of probabilities of the first n tokens exceeds p_threshold\n",
        "        n_tokens_next = np.argmax(cumulative_p.numpy() > p_threshold) + 1\n",
        "\n",
        "        sorted_p = sorted_p[:n_tokens_next]\n",
        "        sorted_p /= cumulative_p[n_tokens_next-1]\n",
        "        ix_ix = np.random.choice(n_tokens_next, p=sorted_p.numpy())\n",
        "        next_ix = sorted_ix[ix_ix]\n",
        "        tokens.append(next_ix.item())\n",
        "        if mask_satisfied[next_ix, string.ascii_lowercase.index(target[target_letter_generated].lower())]:\n",
        "            target_letter_generated += 1\n",
        "            rest_nostarting_tokens = max_nostarting_token\n",
        "        else:\n",
        "            rest_nostarting_tokens -= 1\n",
        "\n",
        "        result = model(next_ix[None].to(device), past_key_values=past)\n",
        "        next_logits, past = result['logits'][0, :], result['past_key_values']"
      ],
      "execution_count": 10,
      "outputs": []
    },
    {
      "cell_type": "code",
      "metadata": {
        "colab": {
          "base_uri": "https://localhost:8080/"
        },
        "id": "IAyDvGAzPC_P",
        "outputId": "e9fce76e-bc94-4edd-c85a-5637073957fa"
      },
      "source": [
        "print(tokenizer.decode(tokens))"
      ],
      "execution_count": 11,
      "outputs": [
        {
          "output_type": "stream",
          "text": [
            " The best possible example to demonstrate power of the project is the research/production efforts.\n",
            "\n",
            "6. Established.\n",
            "\n",
            "9 Basic, passive, or real-time.\n",
            "\n",
            " The\n"
          ],
          "name": "stdout"
        }
      ]
    }
  ]
}