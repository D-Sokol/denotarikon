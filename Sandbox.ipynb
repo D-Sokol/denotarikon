{
  "nbformat": 4,
  "nbformat_minor": 0,
  "metadata": {
    "colab": {
      "name": "Sandbox.ipynb",
      "provenance": [],
      "collapsed_sections": [],
      "authorship_tag": "ABX9TyO8lYowqCCL/qaM8TUN8J8O",
      "include_colab_link": true
    },
    "kernelspec": {
      "name": "python3",
      "display_name": "Python 3"
    },
    "accelerator": "GPU"
  },
  "cells": [
    {
      "cell_type": "markdown",
      "metadata": {
        "id": "view-in-github",
        "colab_type": "text"
      },
      "source": [
        "<a href=\"https://colab.research.google.com/github/D-Sokol/denotarikon/blob/main/Sandbox.ipynb\" target=\"_parent\"><img src=\"https://colab.research.google.com/assets/colab-badge.svg\" alt=\"Open In Colab\"/></a>"
      ]
    },
    {
      "cell_type": "code",
      "metadata": {
        "colab": {
          "base_uri": "https://localhost:8080/"
        },
        "id": "Q-l-0OeQjXhO",
        "outputId": "052a1452-3321-44e9-e608-cde2483a82cd"
      },
      "source": [
        "# Uncomment if you run the notebook in the Google Colab or have no scripts from repository for another reason.\n",
        "#!git clone 'https://github.com/D-Sokol/denotarikon.git'\n",
        "#%cd denotarikon\n",
        "\n",
        "!pip install -r requirements.txt"
      ],
      "execution_count": 17,
      "outputs": [
        {
          "output_type": "stream",
          "text": [
            "Requirement already satisfied: transformers==4.1.1 in /usr/local/lib/python3.6/dist-packages (from -r requirements.txt (line 1)) (4.1.1)\n",
            "Requirement already satisfied: torch==1.7.0 in /usr/local/lib/python3.6/dist-packages (from -r requirements.txt (line 2)) (1.7.0+cu101)\n",
            "Requirement already satisfied: numpy==1.19.4 in /usr/local/lib/python3.6/dist-packages (from -r requirements.txt (line 3)) (1.19.4)\n",
            "Requirement already satisfied: tqdm>=4.27 in /usr/local/lib/python3.6/dist-packages (from transformers==4.1.1->-r requirements.txt (line 1)) (4.41.1)\n",
            "Requirement already satisfied: tokenizers==0.9.4 in /usr/local/lib/python3.6/dist-packages (from transformers==4.1.1->-r requirements.txt (line 1)) (0.9.4)\n",
            "Requirement already satisfied: regex!=2019.12.17 in /usr/local/lib/python3.6/dist-packages (from transformers==4.1.1->-r requirements.txt (line 1)) (2019.12.20)\n",
            "Requirement already satisfied: packaging in /usr/local/lib/python3.6/dist-packages (from transformers==4.1.1->-r requirements.txt (line 1)) (20.8)\n",
            "Requirement already satisfied: filelock in /usr/local/lib/python3.6/dist-packages (from transformers==4.1.1->-r requirements.txt (line 1)) (3.0.12)\n",
            "Requirement already satisfied: requests in /usr/local/lib/python3.6/dist-packages (from transformers==4.1.1->-r requirements.txt (line 1)) (2.23.0)\n",
            "Requirement already satisfied: sacremoses in /usr/local/lib/python3.6/dist-packages (from transformers==4.1.1->-r requirements.txt (line 1)) (0.0.43)\n",
            "Requirement already satisfied: dataclasses; python_version < \"3.7\" in /usr/local/lib/python3.6/dist-packages (from transformers==4.1.1->-r requirements.txt (line 1)) (0.8)\n",
            "Requirement already satisfied: typing-extensions in /usr/local/lib/python3.6/dist-packages (from torch==1.7.0->-r requirements.txt (line 2)) (3.7.4.3)\n",
            "Requirement already satisfied: future in /usr/local/lib/python3.6/dist-packages (from torch==1.7.0->-r requirements.txt (line 2)) (0.16.0)\n",
            "Requirement already satisfied: pyparsing>=2.0.2 in /usr/local/lib/python3.6/dist-packages (from packaging->transformers==4.1.1->-r requirements.txt (line 1)) (2.4.7)\n",
            "Requirement already satisfied: chardet<4,>=3.0.2 in /usr/local/lib/python3.6/dist-packages (from requests->transformers==4.1.1->-r requirements.txt (line 1)) (3.0.4)\n",
            "Requirement already satisfied: idna<3,>=2.5 in /usr/local/lib/python3.6/dist-packages (from requests->transformers==4.1.1->-r requirements.txt (line 1)) (2.10)\n",
            "Requirement already satisfied: urllib3!=1.25.0,!=1.25.1,<1.26,>=1.21.1 in /usr/local/lib/python3.6/dist-packages (from requests->transformers==4.1.1->-r requirements.txt (line 1)) (1.24.3)\n",
            "Requirement already satisfied: certifi>=2017.4.17 in /usr/local/lib/python3.6/dist-packages (from requests->transformers==4.1.1->-r requirements.txt (line 1)) (2020.12.5)\n",
            "Requirement already satisfied: six in /usr/local/lib/python3.6/dist-packages (from sacremoses->transformers==4.1.1->-r requirements.txt (line 1)) (1.15.0)\n",
            "Requirement already satisfied: joblib in /usr/local/lib/python3.6/dist-packages (from sacremoses->transformers==4.1.1->-r requirements.txt (line 1)) (1.0.0)\n",
            "Requirement already satisfied: click in /usr/local/lib/python3.6/dist-packages (from sacremoses->transformers==4.1.1->-r requirements.txt (line 1)) (7.1.2)\n"
          ],
          "name": "stdout"
        }
      ]
    },
    {
      "cell_type": "code",
      "metadata": {
        "id": "ieG-Qb3Mh0Hd",
        "colab": {
          "base_uri": "https://localhost:8080/"
        },
        "outputId": "4216c62c-b78e-40dd-9572-31132f747020"
      },
      "source": [
        "%%bash\n",
        "./denotarikon.py 'SCP' 'Special Containment' --temperature=2.0 -n 5 --directory 'model_cache'"
      ],
      "execution_count": 18,
      "outputs": [
        {
          "output_type": "stream",
          "text": [
            " Special Containmentax PART\n",
            "====================\n",
            " Special Containment Problem\n",
            "====================\n",
            " Special Containment7advancedcrewprovided Pr\n",
            "====================\n",
            " Special Containmentwellar palette\n",
            "====================\n",
            " Special Containment platform\n"
          ],
          "name": "stdout"
        },
        {
          "output_type": "stream",
          "text": [
            "2021-01-08 18:01:59.311408: I tensorflow/stream_executor/platform/default/dso_loader.cc:49] Successfully opened dynamic library libcudart.so.10.1\n"
          ],
          "name": "stderr"
        }
      ]
    },
    {
      "cell_type": "code",
      "metadata": {
        "colab": {
          "base_uri": "https://localhost:8080/"
        },
        "id": "lrG91k3dE2E4",
        "outputId": "bf815652-9529-4ee9-cf6d-02eaea80210f"
      },
      "source": [
        "%%bash\n",
        "./denotarikon.py 'SCP' 'Special Containment' --temperature=0.1 -n 5 --directory 'model_cache'"
      ],
      "execution_count": 19,
      "outputs": [
        {
          "output_type": "stream",
          "text": [
            " Special Containment Procedures\n",
            "====================\n",
            " Special Containment Procedures\n",
            "====================\n",
            " Special Containment Procedures\n",
            "====================\n",
            " Special Containment Procedures\n",
            "====================\n",
            " Special Containment Procedures\n"
          ],
          "name": "stdout"
        },
        {
          "output_type": "stream",
          "text": [
            "2021-01-08 18:02:18.212432: I tensorflow/stream_executor/platform/default/dso_loader.cc:49] Successfully opened dynamic library libcudart.so.10.1\n"
          ],
          "name": "stderr"
        }
      ]
    },
    {
      "cell_type": "code",
      "metadata": {
        "colab": {
          "base_uri": "https://localhost:8080/"
        },
        "id": "FFhnebf1Gkf8",
        "outputId": "c491dcbf-0c1b-4cf6-9944-cec216b967a6"
      },
      "source": [
        "%%bash\n",
        "./denotarikon.py --help"
      ],
      "execution_count": 20,
      "outputs": [
        {
          "output_type": "stream",
          "text": [
            "usage: denotarikon [-h] [-n REPEATS] [--threshold P] [--temperature TEMP]\n",
            "                   [--max-tokens MAX_TOKENS] [--no-cuda]\n",
            "                   [--directory DIRECTORY]\n",
            "                   abbrev [initial]\n",
            "\n",
            "positional arguments:\n",
            "  abbrev                abbreviature to explain\n",
            "  initial               start generation from this phrase\n",
            "\n",
            "optional arguments:\n",
            "  -h, --help            show this help message and exit\n",
            "\n",
            "Model:\n",
            "  Settings affecting the text generation process\n",
            "\n",
            "  -n REPEATS, --number REPEATS\n",
            "                        Number of candidates to generate\n",
            "  --threshold P         Probability threshold for nucleus sampling\n",
            "  --temperature TEMP\n",
            "  --max-tokens MAX_TOKENS\n",
            "                        Maximum number of *tokens* allowed per one letter\n",
            "\n",
            "Devices:\n",
            "  Settings affectnig the devices used for text generation\n",
            "\n",
            "  --no-cuda, --no-gpu   Do not use GPU\n",
            "  --directory DIRECTORY\n",
            "                        Path to a directory containing model weights or where\n",
            "                        weights should be saved. If not provided, weights are\n",
            "                        not cached\n"
          ],
          "name": "stdout"
        },
        {
          "output_type": "stream",
          "text": [
            "2021-01-08 18:02:36.303927: I tensorflow/stream_executor/platform/default/dso_loader.cc:49] Successfully opened dynamic library libcudart.so.10.1\n"
          ],
          "name": "stderr"
        }
      ]
    },
    {
      "cell_type": "code",
      "metadata": {
        "colab": {
          "base_uri": "https://localhost:8080/"
        },
        "id": "0125ZysoFcJ-",
        "outputId": "6a7307b1-4b8e-4c9b-d295-f02591f4c141"
      },
      "source": [
        "%%bash\n",
        "NAME='TREEITMTWCTSGSWRPWFBTWEACTBOSCTSBISCSBAHTCTTSCEURTWWASOGSWWIMIBSBGONTIOS'\n",
        "INIT='The reason Evil exists is to'\n",
        "./denotarikon.py \"$NAME\" \"$INIT\"\\\n",
        "    --temperature=0.72 -n 10 --directory 'model_cache'\\\n",
        "    --max-tokens 2 --threshold 0.5"
      ],
      "execution_count": 21,
      "outputs": [
        {
          "output_type": "stream",
          "text": [
            " The reason Evil exists is to make the world.<|endoftext|> can't take shit.<|endoftext|> greek_ Sells. We're really proud. We're finally back to what's even a crapsh tuesday. But, our santa's comment that she's been in some crazy shit, because a.k hmm, that's crazy. That's the story.<|endoftext|> C. E.. U., R. T., W. W., and S. O., Globalization, Social Work,, which is made in Britain, Switzerland, Belgium, Germany, or Norway. The International Organization,, said\n",
            "====================\n",
            " The reason Evil exists is to make the world, complete, toil, sweat, grow, sweat, with, rain, plague, war, famine, but to work, eat, and clothe the body. Of such, children, the sun, birds, insects, swarms, cattle, sheep, beasts, and human, the cause, the thing, shall come, even unto, resurrection, the world, which, after, shall, or, God, shall, which, will, in, matter, in, blood, shall, by, God, or, nature, the, in, or, substance\n",
            "====================\n",
            " The reason Evil exists is to make the world's citizens think, so, given some well-known rules, people will follow. But the world's evil, and, consequently, the bad, of some, can't take. So, by imposing some common sense, by a higher-order theory, can the true state come. Evil, ultimately, results, to which we are subjected.<|endoftext|> of.com gives some wonderful, well-written information. Many interesting, but sometimes bizarre, gems. One, no-one thought it'd only show\n",
            "====================\n",
            " The reason Evil exists is to make the world.<|endoftext|> chris- taylor- sarah- gill- stacey- watson- ryan- paul- watson- forbes- brian- taylor- watson- e-mail address: chris- taylor- brian- o-me ssarah- catherine- taylor- sarah- brian- i-mail sender: chris- sarah- brian- a-mail header: text-dec c-s taylor- taylor- sarah- catherine- e-mail URL: ryan- taylor- watson- watson- a-mail subject:<|endoftext|> of:... Game:... series:... W:... W:... IP:... M:... IP:... B:... series:... B:... games:... O:... N:... T:... IP:... O:... series\n",
            "====================\n",
            " The reason Evil exists is to make the world's citizens think, so, God, should we.<|endoftext|> r/sports picks: Week-by for best team, Week-by episode, and, crucially, the best of season.<|endoftext|> case: The story behind it.<|endoftext|> so, could someone be ableto help? thanks,<|endoftext|> can't think to say,but can't. even,but unless,is really the way we are. so,could one,could go. so,could we. we.could it.but maybe,we in. but,could still. but,could go.but only,could not.<|endoftext|> The idea of social\n",
            "====================\n",
            " The reason Evil exists is to make the world.<|endoftext|> click to share.. Google+ Stumbleupon WhatsApp Reddit Pocket Whatsapp Facebook Buffer Tumblrlinkedin What's Eating? Aims: Create the best of social, cultural, technological, social, business, information, social, community, social, business, and human-resources tools.. Create the top-not so-called content, especially:. Use.. Read the whole.. Write.. and.. Share.. Organize. Get.. Share.. Work.. Write.. Improve.. Make.. Improve.. Become.. Share.. Become.. Get.. Open.. No.. The.. It's. Over.. See\n",
            "====================\n",
            " The reason Evil exists is to make the world, create the situation, get some work, raise people, work for, be the way, etc. And, consequently, the best of society, civilization, the society, by its standards, can't survive. But, as Hegel, the creator, the true, supreme, creator, etc., ultimately, remains the whole, which, as such, only gives strength, which, when it's made, is, by some, better, greater, or nobler, than its own. So\n",
            "====================\n",
            " The reason Evil exists is to make the world.<|endoftext|> c.18 th.c s.c gen. s.c with respect, pr.p with, from, before, to, within, e.g a, c, t, b, o, s, c, t, s, b, i, s, c, s, b, a, h, t, c, t, t, s, c, e, u, r, t, w, w, a, s, o, g, s, w, w, i, m, i, b, s, b, g, o, n, t, i, o, s\n",
            "====================\n",
            " The reason Evil exists is to make the world's creatures, the supernatural, go. So, when, right?<|endoftext|> Posted: Wednesday, February,, by Tim_of Warzones Editor-in a Commentator This blogpost originally stated:<|endoftext|> Canada's top-ranked soccer-playing B.c is set, coming second, behind Australia's, having topped Canada's top-ranked team, Sweden, coming eighth.<|endoftext|> U.s recent trade with Wales, and some of Germany's significant, well-documented work in moving its borders, suggest, beyond generalist, or, not to include, objective, sense\n",
            "====================\n",
            " The reason Evil exists is to make the world's creatures, the so-called Good, seem weak.<|endoftext|> readme. Please, write.<|endoftext|> from:j bh@ The Wall.com email address:j c@ Thewall. But, ofcourse, she's correct. The story, by its simple, clear, simple, but also, hilariously, true, can't take the sting.<|endoftext|> comes, e-mail us, r/c to:j w/o writing, and/or sharing.<|endoftext|> of, given, said, which, when it's made, is, by, said, by, given, or, not, the, in, or, said\n"
          ],
          "name": "stdout"
        },
        {
          "output_type": "stream",
          "text": [
            "2021-01-08 18:02:39.558036: I tensorflow/stream_executor/platform/default/dso_loader.cc:49] Successfully opened dynamic library libcudart.so.10.1\n"
          ],
          "name": "stderr"
        }
      ]
    }
  ]
}