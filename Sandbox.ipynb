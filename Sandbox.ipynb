{
  "nbformat": 4,
  "nbformat_minor": 0,
  "metadata": {
    "colab": {
      "name": "Sandbox.ipynb",
      "provenance": [],
      "collapsed_sections": [],
      "authorship_tag": "ABX9TyOZGJOJCbth9ngUBif4CKf3",
      "include_colab_link": true
    },
    "kernelspec": {
      "name": "python3",
      "display_name": "Python 3"
    }
  },
  "cells": [
    {
      "cell_type": "markdown",
      "metadata": {
        "id": "view-in-github",
        "colab_type": "text"
      },
      "source": [
        "<a href=\"https://colab.research.google.com/github/D-Sokol/denotarikon/blob/main/Sandbox.ipynb\" target=\"_parent\"><img src=\"https://colab.research.google.com/assets/colab-badge.svg\" alt=\"Open In Colab\"/></a>"
      ]
    },
    {
      "cell_type": "code",
      "metadata": {
        "colab": {
          "base_uri": "https://localhost:8080/"
        },
        "id": "Q-l-0OeQjXhO",
        "outputId": "275a4fd0-360b-4000-b5a5-91c585b7e19d"
      },
      "source": [
        "!pip install transformers==4.1.1"
      ],
      "execution_count": 1,
      "outputs": [
        {
          "output_type": "stream",
          "text": [
            "Requirement already satisfied: transformers==4.1.1 in /usr/local/lib/python3.6/dist-packages (4.1.1)\n",
            "Requirement already satisfied: tqdm>=4.27 in /usr/local/lib/python3.6/dist-packages (from transformers==4.1.1) (4.41.1)\n",
            "Requirement already satisfied: regex!=2019.12.17 in /usr/local/lib/python3.6/dist-packages (from transformers==4.1.1) (2019.12.20)\n",
            "Requirement already satisfied: tokenizers==0.9.4 in /usr/local/lib/python3.6/dist-packages (from transformers==4.1.1) (0.9.4)\n",
            "Requirement already satisfied: dataclasses; python_version < \"3.7\" in /usr/local/lib/python3.6/dist-packages (from transformers==4.1.1) (0.8)\n",
            "Requirement already satisfied: packaging in /usr/local/lib/python3.6/dist-packages (from transformers==4.1.1) (20.8)\n",
            "Requirement already satisfied: sacremoses in /usr/local/lib/python3.6/dist-packages (from transformers==4.1.1) (0.0.43)\n",
            "Requirement already satisfied: filelock in /usr/local/lib/python3.6/dist-packages (from transformers==4.1.1) (3.0.12)\n",
            "Requirement already satisfied: requests in /usr/local/lib/python3.6/dist-packages (from transformers==4.1.1) (2.23.0)\n",
            "Requirement already satisfied: numpy in /usr/local/lib/python3.6/dist-packages (from transformers==4.1.1) (1.19.4)\n",
            "Requirement already satisfied: pyparsing>=2.0.2 in /usr/local/lib/python3.6/dist-packages (from packaging->transformers==4.1.1) (2.4.7)\n",
            "Requirement already satisfied: click in /usr/local/lib/python3.6/dist-packages (from sacremoses->transformers==4.1.1) (7.1.2)\n",
            "Requirement already satisfied: six in /usr/local/lib/python3.6/dist-packages (from sacremoses->transformers==4.1.1) (1.15.0)\n",
            "Requirement already satisfied: joblib in /usr/local/lib/python3.6/dist-packages (from sacremoses->transformers==4.1.1) (1.0.0)\n",
            "Requirement already satisfied: idna<3,>=2.5 in /usr/local/lib/python3.6/dist-packages (from requests->transformers==4.1.1) (2.10)\n",
            "Requirement already satisfied: chardet<4,>=3.0.2 in /usr/local/lib/python3.6/dist-packages (from requests->transformers==4.1.1) (3.0.4)\n",
            "Requirement already satisfied: certifi>=2017.4.17 in /usr/local/lib/python3.6/dist-packages (from requests->transformers==4.1.1) (2020.12.5)\n",
            "Requirement already satisfied: urllib3!=1.25.0,!=1.25.1,<1.26,>=1.21.1 in /usr/local/lib/python3.6/dist-packages (from requests->transformers==4.1.1) (1.24.3)\n"
          ],
          "name": "stdout"
        }
      ]
    },
    {
      "cell_type": "code",
      "metadata": {
        "id": "ieG-Qb3Mh0Hd"
      },
      "source": [
        "import torch\n",
        "import numpy as np\n",
        "from transformers import GPT2Tokenizer, GPT2LMHeadModel"
      ],
      "execution_count": 2,
      "outputs": []
    },
    {
      "cell_type": "markdown",
      "metadata": {
        "id": "rwTnT3neKWJW"
      },
      "source": [
        ""
      ]
    },
    {
      "cell_type": "code",
      "metadata": {
        "id": "aVOB60vVjPju"
      },
      "source": [
        "device = torch.device('cuda' if torch.cuda.is_available() else 'cpu')\n",
        "tokenizer = GPT2Tokenizer.from_pretrained('gpt2', add_prefix_space=True)\n",
        "model = GPT2LMHeadModel.from_pretrained('gpt2').train(False).to(device)"
      ],
      "execution_count": 3,
      "outputs": []
    },
    {
      "cell_type": "code",
      "metadata": {
        "colab": {
          "base_uri": "https://localhost:8080/"
        },
        "id": "l1GOGGfmjhq6",
        "outputId": "5a85d215-8988-4068-ab62-8d9fd096c7e8"
      },
      "source": [
        "start_text = \"The best possible example for denotarikon text generation should starts with\"\n",
        "start_tokens = tokenizer.encode(start_text)\n",
        "start_tokens"
      ],
      "execution_count": 4,
      "outputs": [
        {
          "output_type": "execute_result",
          "data": {
            "text/plain": [
              "[383,\n",
              " 1266,\n",
              " 1744,\n",
              " 1672,\n",
              " 329,\n",
              " 2853,\n",
              " 313,\n",
              " 283,\n",
              " 1134,\n",
              " 261,\n",
              " 2420,\n",
              " 5270,\n",
              " 815,\n",
              " 4940,\n",
              " 351]"
            ]
          },
          "metadata": {
            "tags": []
          },
          "execution_count": 4
        }
      ]
    },
    {
      "cell_type": "code",
      "metadata": {
        "id": "EvgBMqjHTE7K"
      },
      "source": [
        "# Parameter for nucleus sampling\n",
        "p_threshold = 0.95\n",
        "# Desired number of tokens in the result.\n",
        "n_tokens = 111"
      ],
      "execution_count": 5,
      "outputs": []
    },
    {
      "cell_type": "code",
      "metadata": {
        "id": "KlRDYccBmg9y"
      },
      "source": [
        "tokens = start_tokens[:]\n",
        "with torch.no_grad():\n",
        "    result = model(torch.tensor(tokens, device=device)[None], past_key_values=None)\n",
        "    next_logits, past = result['logits'][0, -1, :], result['past_key_values']\n",
        "    for i in range(len(tokens), n_tokens):\n",
        "        next_probas = torch.softmax(next_logits, dim=-1).cpu()\n",
        "\n",
        "\n",
        "        sorted_p, sorted_ix = torch.sort(next_probas, descending=True)\n",
        "        cumulative_p = torch.cumsum(sorted_p, dim=-1)\n",
        "\n",
        "        # Number of possible choices for next token, calculated as minimal n\n",
        "        #  such that sum of probabilities of the first n tokens exceeds p_threshold\n",
        "        n_tokens_next = np.argmax(cumulative_p.numpy() > p_threshold) + 1\n",
        "\n",
        "        sorted_p = sorted_p[:n_tokens_next]\n",
        "        sorted_p /= cumulative_p[n_tokens_next-1]\n",
        "        ix_ix = np.random.choice(n_tokens_next, p=sorted_p.numpy())\n",
        "        next_ix = sorted_ix[ix_ix]\n",
        "        tokens.append(next_ix.item())\n",
        "\n",
        "        # TODO: split by 1st letter\n",
        "        result = model(next_ix[None], past_key_values=past)\n",
        "        next_logits, past = result['logits'][0, :], result['past_key_values']\n",
        "        next_probas = torch.softmax(next_logits, dim=-1).cpu()"
      ],
      "execution_count": 6,
      "outputs": []
    },
    {
      "cell_type": "code",
      "metadata": {
        "colab": {
          "base_uri": "https://localhost:8080/"
        },
        "id": "IAyDvGAzPC_P",
        "outputId": "b6683df2-3007-4528-ebfe-a423bb98dfae"
      },
      "source": [
        "print(tokenizer.decode(tokens))"
      ],
      "execution_count": 7,
      "outputs": [
        {
          "output_type": "stream",
          "text": [
            " The best possible example for denotarikon text generation should starts with the text lines with a combination of height and horizontal position.\n",
            "\n",
            "Multiple lines could be created with the datatype: DT_UNLIMITED. (If you want to use corebeyondXXX mode, you'll have to set the ddt_limit=15 to VYS_DETECTORIAL.) This should also take care of transitions.\n",
            "\n",
            "Note that if you wanna use four separate datatypes or more, one is the best option.\n"
          ],
          "name": "stdout"
        }
      ]
    }
  ]
}